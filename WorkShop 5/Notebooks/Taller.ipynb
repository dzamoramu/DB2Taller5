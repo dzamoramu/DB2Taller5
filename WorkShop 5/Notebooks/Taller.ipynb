{
 "cells": [
  {
   "cell_type": "code",
   "execution_count": 2,
   "metadata": {},
   "outputs": [
    {
     "name": "stdout",
     "output_type": "stream",
     "text": [
      "Requirement already satisfied: neo4j in c:\\users\\usuario\\anaconda3\\lib\\site-packages (4.4.0)\n",
      "Requirement already satisfied: pytz in c:\\users\\usuario\\anaconda3\\lib\\site-packages (from neo4j) (2021.1)\n"
     ]
    }
   ],
   "source": [
    "!pip install neo4j"
   ]
  },
  {
   "cell_type": "code",
   "execution_count": 3,
   "metadata": {},
   "outputs": [],
   "source": [
    "from datetime import datetime\n",
    "\n",
    "from neo4j import GraphDatabase, basic_auth"
   ]
  },
  {
   "cell_type": "code",
   "execution_count": 4,
   "metadata": {},
   "outputs": [],
   "source": [
    "URL = \"bolt://localhost:7687\"\n",
    "USERNAME = \"Daniel_Hurtado\"\n",
    "PASSWORD = \"123456\"\n",
    "DATABASE = \"fourpaws\""
   ]
  },
  {
   "cell_type": "code",
   "execution_count": 5,
   "metadata": {},
   "outputs": [],
   "source": [
    "driver = GraphDatabase.driver(URL, auth = basic_auth(USERNAME, PASSWORD))"
   ]
  },
  {
   "cell_type": "code",
   "execution_count": 6,
   "metadata": {},
   "outputs": [],
   "source": [
    "db = driver.session(database = DATABASE)"
   ]
  },
  {
   "cell_type": "markdown",
   "metadata": {},
   "source": [
    "### Creating a basic graph"
   ]
  },
  {
   "cell_type": "markdown",
   "metadata": {},
   "source": [
    "<img src=\"imgs/fig1.png\">"
   ]
  },
  {
   "cell_type": "code",
   "execution_count": 8,
   "metadata": {},
   "outputs": [],
   "source": [
    "def crearPropietarioyMascota (nameP, typeM, nameM):\n",
    "    summary = db.write_transaction(lambda tx: tx.run(\"CREATE (:Person:Owner {name: '\" + nameP + \"'})-[:OWNS]->(:Pet:\" + typeM + \" {name:'\" + nameM + \"'})\").consume())"
   ]
  },
  {
   "cell_type": "code",
   "execution_count": 34,
   "metadata": {},
   "outputs": [],
   "source": [
    "crearPropietarioyMascota(\"Daniel\", \"Cat\", \"Lola\")"
   ]
  },
  {
   "cell_type": "code",
   "execution_count": 11,
   "metadata": {},
   "outputs": [],
   "source": [
    "def cargarFotoyAsociarla(nameM, urlIm): \n",
    "    summary = db.write_transaction(lambda tx: tx.run(\"MATCH (d:Pet {name: '\"+ nameM +\"'}) CREATE (i:Picture {createdAt:  $createdAt}) CREATE (d)-[:APPEARS_IN]->(i)\", {\"createdAt\": urlIm}).consume())"
   ]
  },
  {
   "cell_type": "code",
   "execution_count": 23,
   "metadata": {},
   "outputs": [],
   "source": [
    "cargarFotoyAsociarla(\"Mailo\", \"https://www.muyinteresante.es/mascotas/fotos\")"
   ]
  },
  {
   "cell_type": "code",
   "execution_count": 50,
   "metadata": {},
   "outputs": [],
   "source": [
    "def reaccionarFoto(urlI, namePersona, typeReaction):\n",
    "    db.write_transaction(lambda tx: tx.run(\"MATCH (i:Picture {createdAt: '\" + urlI +\"' }) MATCH (c:Person {name: '\" + namePersona + \"'}) CREATE (c)-[:\"+ typeReaction +\"]->(i)\").consume())"
   ]
  },
  {
   "cell_type": "code",
   "execution_count": 74,
   "metadata": {},
   "outputs": [],
   "source": [
    "reaccionarFoto(\"https://www.muyinteresante.es/mascotas/fotos/impresionantes-curiosidades-sobre-perros-que-fuerte\", \"Daniel\", \"Like\")"
   ]
  },
  {
   "cell_type": "code",
   "execution_count": 41,
   "metadata": {},
   "outputs": [],
   "source": [
    "def asociarFoto(urlI, nameMascota, typeMascota):\n",
    "    db.write_transaction(lambda tx: tx.run(\"MATCH (i:Picture {createdAt: '\" + urlI +\"' }) MATCH (c:Pet: \"+ typeMascota +\" {name: '\" + nameMascota + \"'}) CREATE (c)-[:APPEARS_IN]->(i)\").consume())"
   ]
  },
  {
   "cell_type": "code",
   "execution_count": 47,
   "metadata": {},
   "outputs": [],
   "source": [
    "asociarFoto(\"https://www.muyinteresante.es/mascotas/fotos\", \"Zeus\", \"Dog\")"
   ]
  },
  {
   "cell_type": "markdown",
   "metadata": {},
   "source": [
    "### Counting nodes by type"
   ]
  },
  {
   "cell_type": "code",
   "execution_count": 43,
   "metadata": {},
   "outputs": [],
   "source": [
    "result = db.read_transaction(lambda tx: tx.run(\"MATCH (:Dog) RETURN count(*) AS count\").single())"
   ]
  },
  {
   "cell_type": "code",
   "execution_count": 44,
   "metadata": {},
   "outputs": [
    {
     "data": {
      "text/plain": [
       "1"
      ]
     },
     "execution_count": 44,
     "metadata": {},
     "output_type": "execute_result"
    }
   ],
   "source": [
    "result[\"count\"]"
   ]
  },
  {
   "cell_type": "markdown",
   "metadata": {},
   "source": [
    "### Counting number of outbound relationships from a node"
   ]
  },
  {
   "cell_type": "code",
   "execution_count": 48,
   "metadata": {},
   "outputs": [],
   "source": [
    "# For a specific node\n",
    "result = db.read_transaction(lambda tx: tx.run(\"MATCH (p:Pet) WHERE ID(p) = $node RETURN size((p)-->()) AS count\", {\"node\": 4}).single())"
   ]
  },
  {
   "cell_type": "code",
   "execution_count": 49,
   "metadata": {},
   "outputs": [
    {
     "data": {
      "text/plain": [
       "3"
      ]
     },
     "execution_count": 49,
     "metadata": {},
     "output_type": "execute_result"
    }
   ],
   "source": [
    "result[\"count\"]"
   ]
  },
  {
   "cell_type": "code",
   "execution_count": 88,
   "metadata": {},
   "outputs": [],
   "source": [
    "# For a group of nodes\n",
    "result = db.read_transaction(lambda tx: list(tx.run(\"MATCH (p:Person)-[r:Like]->(i:Picture) RETURN i.createdAt AS url, COUNT(r) AS num_likes\")))"
   ]
  },
  {
   "cell_type": "code",
   "execution_count": 89,
   "metadata": {},
   "outputs": [
    {
     "name": "stdout",
     "output_type": "stream",
     "text": [
      "http://c.files.bbci.co.uk/48DD/production/_107435681_perro1.jpg => 1\n",
      "https://www.muyinteresante.es/mascotas/fotos => 3\n",
      "https://www.muyinteresante.es/mascotas/fotos/impresionantes-curiosidades-sobre-perros-que-fuerte => 2\n"
     ]
    }
   ],
   "source": [
    "result.sort()\n",
    "for r in result:\n",
    "    print(r[\"url\"] + \" => \" + str(r[\"num_likes\"]))"
   ]
  },
  {
   "cell_type": "code",
   "execution_count": null,
   "metadata": {},
   "outputs": [],
   "source": [
    "db.close()"
   ]
  },
  {
   "cell_type": "code",
   "execution_count": null,
   "metadata": {},
   "outputs": [],
   "source": []
  }
 ],
 "metadata": {
  "kernelspec": {
   "display_name": "Python 3",
   "language": "python",
   "name": "python3"
  },
  "language_info": {
   "codemirror_mode": {
    "name": "ipython",
    "version": 3
   },
   "file_extension": ".py",
   "mimetype": "text/x-python",
   "name": "python",
   "nbconvert_exporter": "python",
   "pygments_lexer": "ipython3",
   "version": "3.8.8"
  }
 },
 "nbformat": 4,
 "nbformat_minor": 4
}
